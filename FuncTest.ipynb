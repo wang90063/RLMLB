{
 "cells": [
  {
   "cell_type": "code",
   "execution_count": 6,
   "metadata": {
    "collapsed": false
   },
   "outputs": [],
   "source": [
    "import numpy as np\n",
    "\n",
    "WINDOW_WIDTH = 1000  # size of window's width in pixels\n",
    "WINDOW_HEIGHT = 600  # size of windows' height in pixels\n",
    "CELL_SIZE = 200  # size of cell height & width in pixels\n",
    "GAP_SIZE = 1  # size of gap between cells in pixels\n",
    "CELL_COLUMN = 3  # number of columns of cells\n",
    "CELL_ROW = 2  # number of rows of cells\n",
    "NUM_CELL = CELL_COLUMN * CELL_ROW  # num of cells\n",
    "LEFT_MARGIN = int((WINDOW_WIDTH - (CELL_COLUMN * (CELL_SIZE + GAP_SIZE))) / 2)\n",
    "RIGHT_MARGIN = int(WINDOW_WIDTH - LEFT_MARGIN)\n",
    "TOP_MARGIN = int((WINDOW_HEIGHT - (CELL_ROW * (CELL_SIZE + GAP_SIZE))) / 2)\n",
    "BOTTOM_MARGIN = int(WINDOW_HEIGHT - TOP_MARGIN)\n",
    "NUM_USER = 20\n",
    "RESOURCE_LIST = [10, 8, 6, 10, 8, 6, 6, 10, 7, 10, 5, 7, 4, 8, 9, 5, 6, 5, 9]"
   ]
  },
  {
   "cell_type": "code",
   "execution_count": 7,
   "metadata": {
    "collapsed": false
   },
   "outputs": [],
   "source": [
    "def init_users():\n",
    "    \"\"\"\n",
    "        initialize user. every user consists of 4 params:\n",
    "        (1) loc_x(center) (2) loc_y(center) (3) which cell user is in (4) user mobility type\n",
    "        user mobility type is divided into 3 categories: low, medium and high. Low mobility users takes 70% of all,\n",
    "        while medium and high takes 20% and 10%.\n",
    "        :return: user: (1) loc_x(center) (2) loc_y(center) (3) which cell user is in (4) user mobility type\n",
    "        \"\"\"\n",
    "    loc_x = np.random.randint(LEFT_MARGIN, RIGHT_MARGIN, size=NUM_USER)\n",
    "    loc_y = np.random.randint(TOP_MARGIN, BOTTOM_MARGIN, size=NUM_USER)\n",
    "    cell_id = which_cell(loc_x=loc_x, loc_y=loc_y)\n",
    "    mobility_type = np.random.choice([1,5,10], size=NUM_USER, p=[0.7, 0.2, 0.1]) # low(70%), medium(20%), high(10%)\n",
    "    users = np.vstack((loc_x, loc_y, cell_id, mobility_type))\n",
    "    return users.T\n",
    "\n",
    "def which_cell(loc_x, loc_y):\n",
    "    \"\"\"\n",
    "    calculate which cell the user is in\n",
    "    :param loc_x:\n",
    "    :param loc_y:\n",
    "    :return: cell_id\n",
    "    \"\"\"\n",
    "    column = np.ceil((loc_x - LEFT_MARGIN) / CELL_SIZE)\n",
    "    row = np.ceil((loc_y - TOP_MARGIN) / CELL_SIZE)\n",
    "    cell_id = (row - 1) * CELL_COLUMN + column\n",
    "    return cell_id"
   ]
  },
  {
   "cell_type": "code",
   "execution_count": 8,
   "metadata": {
    "collapsed": false
   },
   "outputs": [
    {
     "name": "stdout",
     "output_type": "stream",
     "text": [
      "[[ 346.  137.    1.    1.]\n",
      " [ 718.  445.    6.    1.]\n",
      " [ 704.  148.    3.    5.]\n",
      " [ 385.  387.    4.    1.]\n",
      " [ 384.  485.    4.    1.]\n",
      " [ 566.  499.    5.    1.]\n",
      " [ 624.  114.    3.    5.]\n",
      " [ 252.  178.    1.    1.]\n",
      " [ 439.  310.    5.    1.]\n",
      " [ 733.  253.    3.    1.]\n",
      " [ 627.  136.    3.    1.]\n",
      " [ 229.  394.    4.    1.]\n",
      " [ 530.  467.    5.   10.]\n",
      " [ 578.  400.    5.    1.]\n",
      " [ 207.  414.    4.    5.]\n",
      " [ 718.  392.    6.    1.]\n",
      " [ 681.  235.    3.    1.]\n",
      " [ 687.  265.    3.    5.]\n",
      " [ 573.  153.    2.    1.]\n",
      " [ 599.  311.    6.    1.]]\n"
     ]
    }
   ],
   "source": [
    "users = init_users()\n",
    "print(users)"
   ]
  },
  {
   "cell_type": "code",
   "execution_count": 9,
   "metadata": {
    "collapsed": false
   },
   "outputs": [
    {
     "name": "stdout",
     "output_type": "stream",
     "text": [
      "[[ 198.   99.    0.   10.    0.]\n",
      " [ 399.   99.    1.    8.    0.]\n",
      " [ 600.   99.    2.    6.    0.]\n",
      " [ 198.  300.    3.   10.    0.]\n",
      " [ 399.  300.    4.    8.    0.]\n",
      " [ 600.  300.    5.    6.    0.]]\n"
     ]
    }
   ],
   "source": [
    "def init_cells():\n",
    "    \"\"\"\n",
    "    initialize cell list, every cell in the lists consists of 5 params:\n",
    "    (1)loc_x(left) (2)loc_y(top) (3)NO. (4)PRB number (5)load\n",
    "    :return: cell_list: (1)loc_x(left) (2)loc_y(top) (3)NO. (4)PRB number (5)load\n",
    "    \"\"\"\n",
    "    # cell location\n",
    "    flatten_x = np.tile(np.arange(CELL_COLUMN), CELL_ROW)\n",
    "    flatten_y = np.repeat(np.arange(CELL_ROW), CELL_COLUMN)\n",
    "    cell_x = flatten_x * (CELL_SIZE + GAP_SIZE) + LEFT_MARGIN\n",
    "    cell_y = flatten_y * (CELL_SIZE + GAP_SIZE) + TOP_MARGIN\n",
    "    \n",
    "    cell_id = np.arange(NUM_CELL)\n",
    "    cell_PRB = np.array(RESOURCE_LIST[:NUM_CELL])\n",
    "    cell_load = np.zeros(NUM_CELL)\n",
    "    \n",
    "    cells = np.vstack((cell_x, cell_y, cell_id, cell_PRB, cell_load))\n",
    "    return cells.T\n",
    "\n",
    "cells = init_cells()\n",
    "print(cells)"
   ]
  },
  {
   "cell_type": "code",
   "execution_count": 13,
   "metadata": {
    "collapsed": false
   },
   "outputs": [
    {
     "name": "stdout",
     "output_type": "stream",
     "text": [
      "[  1.   1.   5.   1.   1.   1.   5.   1.   1.   1.   1.   1.  10.   1.   5.\n",
      "   1.   1.   5.   1.   1.]\n",
      "[ 0.27861974  0.69707282 -0.12983559 -0.75253292  0.38056648  0.98697743\n",
      " -0.78673886  0.77677103 -0.31962717  0.92735227 -0.4017204  -0.03411587\n",
      " -0.90735374  0.31488965 -0.16975477  0.09741551  0.35272702  0.36237309\n",
      " -0.16082193  0.78058962]\n",
      "[-0.5491273   0.35284397 -2.17700623 -0.93103989  0.74426309 -0.61826643\n",
      " -2.26660149 -0.8564505  -0.29475454  0.92536152  0.60251163 -0.70459314\n",
      " -9.26568804 -0.4359116  -2.43774625 -0.93398479  0.05147365  3.13963182\n",
      " -0.33291547 -0.88497868]\n",
      "[ 345.4508727   718.35284397  701.82299377  384.06896011  384.74426309\n",
      "  565.38173357  621.73339851  251.1435495   438.70524546  733.92536152\n",
      "  627.60251163  228.29540686  520.73431196  577.5640884   204.56225375\n",
      "  717.06601521  681.05147365  690.13963182  572.66708453  598.11502132] [ 137.64378302  444.78505648  143.01465328  386.85734717  485.54934627\n",
      "  497.          114.80618821  177.37609663  309.52633911  253.56436053\n",
      "  135.5688113   393.81252283  463.26034039  399.98597284  414.83633708\n",
      "  392.03399248  234.3052117   266.73681467  152.35324583  310.61655032]\n"
     ]
    }
   ],
   "source": [
    "def user_mobility(users):\n",
    "    \"\"\"\n",
    "    user mobility func update users' location in every frame. mobility range comes from user mobility type. Meanwhile,\n",
    "    user should only move in the cell range, restricted by the MARGIN.\n",
    "    :param user_list: (1) loc_x(center) (2) loc_y(center) (3) which cell user is in (4) user mobility type\n",
    "    :return: new_user_list: (1) loc_x(center) (2) loc_y(center) (3) which cell user is in (4) user mobility type\n",
    "    \"\"\"\n",
    "    mobility = users[:,3]\n",
    "    move_x = mobility*np.random.uniform(-1,1,size=len(mobility))\n",
    "    print(move_x)\n",
    "    move_y = mobility*np.random.uniform(-1,1,size=len(mobility))\n",
    "    user_x = users[:,0] + move_x\n",
    "    user_y = users[:,1] + move_y\n",
    "    user_x = np.clip(user_x, LEFT_MARGIN + 4, RIGHT_MARGIN - 4)\n",
    "    user_y = np.clip(user_y, TOP_MARGIN + 4, BOTTOM_MARGIN - 4)\n",
    "    return user_x, user_y\n",
    "\n",
    "user_x, user_y = user_mobility(users)\n",
    "print(user_x, user_y)"
   ]
  },
  {
   "cell_type": "code",
   "execution_count": 6,
   "metadata": {
    "collapsed": false
   },
   "outputs": [
    {
     "name": "stdout",
     "output_type": "stream",
     "text": [
      "[[ 198.   99.    0.   10.    0.]\n",
      " [ 399.   99.    1.    8.    0.]\n",
      " [ 600.   99.    2.    6.    0.]\n",
      " [ 198.  300.    3.   10.    0.]\n",
      " [ 399.  300.    4.    8.    0.]\n",
      " [ 600.  300.    5.    6.    0.]]\n",
      "[ 3.  4.  4.  0.  3.  2.  0.  5.  5.  2.  3.  1.  5.  5.  1.  2.  2.  3.\n",
      "  3.  3.]\n",
      "[(3.0, 6), (2.0, 4), (5.0, 4), (0.0, 2), (1.0, 2), (4.0, 2)]\n",
      "[[ 198.   99.    0.   10.    2.]\n",
      " [ 399.   99.    1.    8.    2.]\n",
      " [ 600.   99.    2.    6.    4.]\n",
      " [ 198.  300.    3.   10.    6.]\n",
      " [ 399.  300.    4.    8.    2.]\n",
      " [ 600.  300.    5.    6.    4.]]\n"
     ]
    },
    {
     "name": "stderr",
     "output_type": "stream",
     "text": [
      "/Users/Dijkstraaaaa/anaconda3/lib/python3.5/site-packages/ipykernel/__main__.py:18: VisibleDeprecationWarning: using a non-integer number instead of an integer will result in an error in the future\n"
     ]
    }
   ],
   "source": [
    "from collections import Counter\n",
    "\n",
    "def update_load(cells, users):\n",
    "    \"\"\"\n",
    "    calculate cell load according to the sum of users in its range.\n",
    "    :param cell_list:\n",
    "    :param user_list:\n",
    "    :return:\n",
    "    \"\"\"\n",
    "    # count users in each cell\n",
    "    user_in = users[:,2]-1\n",
    "    print(user_in)\n",
    "    user_count =  Counter(user_in).most_common()\n",
    "    print(user_count)\n",
    "    \n",
    "    # update the load of each cell in cell list\n",
    "    for item in user_count:\n",
    "        cells[item[0]][4] = item[1]\n",
    "    return cells\n",
    "\n",
    "print(cells)\n",
    "cells = update_load(cells, users)\n",
    "print(cells)"
   ]
  },
  {
   "cell_type": "code",
   "execution_count": 7,
   "metadata": {
    "collapsed": false
   },
   "outputs": [
    {
     "name": "stdout",
     "output_type": "stream",
     "text": [
      "0\n"
     ]
    }
   ],
   "source": [
    "def cal_reward(cells):\n",
    "    reward = 0\n",
    "    resource = cells[:,3]\n",
    "    load = cells[:,4]\n",
    "    normal = resource>load\n",
    "    reward = np.sum(normal.astype(int)-1)\n",
    "    return reward\n",
    "\n",
    "reward = cal_reward(cells)\n",
    "print(reward)"
   ]
  },
  {
   "cell_type": "code",
   "execution_count": 1,
   "metadata": {
    "collapsed": true
   },
   "outputs": [],
   "source": [
    "import pygame\n",
    "import sys\n",
    "import random\n",
    "import numpy as np\n",
    "from pygame.locals import *\n",
    "from colour import Color\n",
    "from collections import Counter\n",
    "\n",
    "\n",
    "# frame params\n",
    "FPS = 3  # frames per second, the general speed of the program\n",
    "WINDOW_WIDTH = 1000  # size of window's width in pixels\n",
    "WINDOW_HEIGHT = 600  # size of windows' height in pixels\n",
    "CELL_SIZE = 200  # size of cell height & width in pixels\n",
    "GAP_SIZE = 1  # size of gap between cells in pixels\n",
    "CELL_COLUMN = 3  # number of columns of cells\n",
    "CELL_ROW = 2  # number of rows of cells\n",
    "NUM_CELL = CELL_COLUMN * CELL_ROW  # num of cells\n",
    "LEFT_MARGIN = int((WINDOW_WIDTH - (CELL_COLUMN * (CELL_SIZE + GAP_SIZE))) / 2)\n",
    "RIGHT_MARGIN = int(WINDOW_WIDTH - LEFT_MARGIN)\n",
    "TOP_MARGIN = int((WINDOW_HEIGHT - (CELL_ROW * (CELL_SIZE + GAP_SIZE))) / 2)\n",
    "BOTTOM_MARGIN = int(WINDOW_HEIGHT - TOP_MARGIN)\n",
    "NUM_USER = 20\n",
    "white = Color(\"white\")\n",
    "COLOR_LIST = list(white.range_to(Color(\"black\"), 15))\n",
    "RESOURCE_LIST = [10, 8, 6, 10, 8, 6, 6, 10, 7, 10, 5, 7, 4, 8, 9, 5, 6, 5, 9]\n",
    "\n",
    "# RGB\n",
    "GRAY = (100, 100, 100)\n",
    "NAVY_BLUE = (60, 60, 100)\n",
    "WHITE = (255, 255, 255)\n",
    "BLACK = (0, 0, 0)\n",
    "RED = (255, 0, 0)\n",
    "GREEN = (0, 255, 0)\n",
    "BLUE = (0, 0, 255)\n",
    "YELLOW = (255, 255, 0)\n",
    "ORANGE = (255, 128, 0)\n",
    "PURPLE = (255, 0, 255)\n",
    "CYAN = (0, 255, 255)\n",
    "BG_COLOR = NAVY_BLUE\n",
    "CELL_COLOR = WHITE\n",
    "pygame.init()\n",
    "FPS_CLOCK = pygame.time.Clock()\n",
    "DISPLAY_SURF = pygame.display.set_mode((WINDOW_WIDTH, WINDOW_HEIGHT))\n",
    "pygame.display.set_caption('MLB System Model')\n",
    "\n",
    "\n",
    "class SystemModel:\n",
    "    def __init__(self):\n",
    "        self.users = self.init_users()\n",
    "        self.cells = self.init_cells()\n",
    "\n",
    "    def init_users(self):\n",
    "        \"\"\"\n",
    "        initialize user. every user consists of 4 params:\n",
    "        (1) loc_x(center) (2) loc_y(center) (3) which cell user is in (4) user mobility type\n",
    "        user mobility type is divided into 3 categories: low, medium and high. Low mobility users takes 70% of all,\n",
    "        while medium and high takes 20% and 10%.\n",
    "        :return: user: (1) loc_x(center) (2) loc_y(center) (3) which cell user is in (4) user mobility type\n",
    "         \"\"\"\n",
    "        user_x = np.random.randint(LEFT_MARGIN, RIGHT_MARGIN, size=NUM_USER)\n",
    "        user_y = np.random.randint(TOP_MARGIN, BOTTOM_MARGIN, size=NUM_USER)\n",
    "        cell_id = self.which_cell(loc_x=user_x, loc_y=user_y)\n",
    "        mobility_type = np.random.choice(3, size=NUM_USER, p=[0.7, 0.2, 0.1])  # low(70%), medium(20%), high(10%)\n",
    "        users = np.vstack((user_x, user_y, cell_id, mobility_type))\n",
    "        return users.T\n",
    "\n",
    "    @staticmethod\n",
    "    def init_cells():\n",
    "        \"\"\"\n",
    "        initialize cell list, every cell in the lists consists of 5 params:\n",
    "        (1)loc_x(left) (2)loc_y(top) (3)NO. (4)PRB number (5)load\n",
    "        :return: cell_list: (1)loc_x(left) (2)loc_y(top) (3)NO. (4)PRB number (5)load\n",
    "        \"\"\"\n",
    "        # cell location\n",
    "        flatten_x = np.tile(np.arange(CELL_COLUMN), CELL_ROW)\n",
    "        flatten_y = np.repeat(np.arange(CELL_ROW), CELL_COLUMN)\n",
    "        cell_x = flatten_x * (CELL_SIZE + GAP_SIZE) + LEFT_MARGIN\n",
    "        cell_y = flatten_y * (CELL_SIZE + GAP_SIZE) + TOP_MARGIN\n",
    "\n",
    "        cell_id = np.arange(NUM_CELL)\n",
    "        cell_PRB = np.array(RESOURCE_LIST[:NUM_CELL])\n",
    "        cell_load = np.zeros(NUM_CELL)\n",
    "\n",
    "        cells = np.vstack((cell_x, cell_y, cell_id, cell_PRB, cell_load))\n",
    "        return cells.T\n",
    "\n",
    "    @staticmethod\n",
    "    def which_cell(loc_x, loc_y):\n",
    "        \"\"\"\n",
    "        calculate which cell the user is in\n",
    "        :param loc_x:\n",
    "        :param loc_y:\n",
    "        :return: cell_id\n",
    "        \"\"\"\n",
    "        column = np.ceil((loc_x - LEFT_MARGIN) / CELL_SIZE)\n",
    "        row = np.ceil((loc_y - TOP_MARGIN) / CELL_SIZE)\n",
    "        cell_id = (row - 1) * CELL_COLUMN + column\n",
    "        return cell_id\n",
    "\n",
    "    def move_user(self):\n",
    "        \"\"\"\n",
    "        user mobility func update users' location in every frame. mobility range comes from user mobility type. Meanwhile,\n",
    "        user should only move in the cell range, restricted by the MARGIN.\n",
    "        \"\"\"\n",
    "        mobility = self.users[:, 3]\n",
    "\n",
    "        move_x = mobility * np.random.uniform(-1, 1, size=len(mobility))\n",
    "        user_x = self.users[:, 0] + move_x  # update loc according to user mobility type\n",
    "        self.users[:, 0] = np.clip(user_x, LEFT_MARGIN + 4, RIGHT_MARGIN - 4)  # restrict user loc in the cell range\n",
    "\n",
    "        move_y = mobility * np.random.uniform(-1, 1, size=len(mobility))\n",
    "        user_y = self.users[:, 1] + move_y  # update loc according to user mobility type\n",
    "        self.users[:, 1] = np.clip(user_y, TOP_MARGIN + 4, BOTTOM_MARGIN - 4)  # restrict user loc in the cell range\n",
    "\n",
    "    def update_load(self):\n",
    "        \"\"\"\n",
    "        calculate cell load according to the sum of users in its range.\n",
    "        \"\"\"\n",
    "        # count users in each cell\n",
    "        user_in = self.users[:, 2] - 1\n",
    "        user_count = Counter(user_in).most_common()\n",
    "        # update the load of each cell in cell list\n",
    "        for item in user_count:\n",
    "            print(item[0])\n",
    "            self.cells[item[0]][4] = item[1]\n",
    "\n",
    "    def get_reward(self):\n",
    "        resource = self.cells[:, 3]\n",
    "        load = self.cells[:, 4]\n",
    "        normal = resource > load\n",
    "        reward = np.sum(normal.astype(int) - 1)\n",
    "        return reward\n",
    "\n",
    "    def draw_cells(self):\n",
    "        \"\"\"\n",
    "        draw cell square and paint color according to cell location and outrage ratio. outrage ratio denotes the balance\n",
    "        between cell resources and cell load. Color in each cell is chosen according to the outrage ratio. Dark color means\n",
    "        the cell is high-burden, opposite otherwise. Black color means ratio is lager than 1, meaning that cell is outrage.\n",
    "        :param cell_list: (1)loc_x(left) (2)loc_y(top) (3)NO. (4)PRB number (5)load\n",
    "        :return:\n",
    "        \"\"\"\n",
    "        outrage_ratio = [x[4] / x[3] for x in self.cells]\n",
    "        # print(cell_list)\n",
    "        # print(outrage_ratio)\n",
    "        outrage_ratio = [min(x, 1) for x in outrage_ratio]  # larger than 1 is outrage, use black color directly\n",
    "        # print_list = [round(x, 2) for x in outrage_ratio]\n",
    "        # print(print_list)\n",
    "        color_index = [int(x * len(COLOR_LIST)) for x in outrage_ratio]\n",
    "        for cell in self.cells:\n",
    "            this_color_index = color_index[int(cell[2] - 1)]\n",
    "            this_cell_color = [i * 255 for i in list(COLOR_LIST[this_color_index - 1].rgb)]\n",
    "            pygame.draw.rect(DISPLAY_SURF, this_cell_color, (cell[0], cell[1], CELL_SIZE, CELL_SIZE))\n",
    "\n",
    "    def draw_users(self):\n",
    "        \"\"\"\n",
    "        draw user circle according to their center postition\n",
    "        :param user_list: (1) loc_x(center) (2) loc_y(center)\n",
    "        :return:\n",
    "        \"\"\"\n",
    "        for user in self.users:\n",
    "            pygame.draw.circle(DISPLAY_SURF, RED, (int(user[0]), int(user[1])), 2)\n",
    "\n",
    "    def frame_step(self, input_action):\n",
    "        # update PRB according to actions\n",
    "        for i in range(NUM_CELL):\n",
    "            # take the PRB from cell j to i\n",
    "            cell_to_take = input_action[i]\n",
    "            self.cells[i][3] += 1\n",
    "            self.cells[cell_to_take][3] -= 1\n",
    "        print(self.cells)\n",
    "\n",
    "        # update system states\n",
    "        self.move_user()\n",
    "        self.update_load()\n",
    "        reward = self.get_reward()\n",
    "\n",
    "        # draw frame\n",
    "        DISPLAY_SURF.fill(BG_COLOR)\n",
    "        self.draw_cells()\n",
    "        self.draw_users()\n",
    "        return reward"
   ]
  },
  {
   "cell_type": "code",
   "execution_count": 2,
   "metadata": {
    "collapsed": false
   },
   "outputs": [
    {
     "name": "stdout",
     "output_type": "stream",
     "text": [
      "[3, 1, 2, 0, 5, 4]\n"
     ]
    }
   ],
   "source": [
    "items = range(6)\n",
    "random_action = random.sample(items, len(items))\n",
    "print(random_action)"
   ]
  },
  {
   "cell_type": "code",
   "execution_count": 3,
   "metadata": {
    "collapsed": true
   },
   "outputs": [],
   "source": [
    "system_model = SystemModel()"
   ]
  },
  {
   "cell_type": "code",
   "execution_count": 4,
   "metadata": {
    "collapsed": false
   },
   "outputs": [
    {
     "name": "stdout",
     "output_type": "stream",
     "text": [
      "[[ 198.   99.    0.   10.    0.]\n",
      " [ 399.   99.    1.    8.    0.]\n",
      " [ 600.   99.    2.    6.    0.]\n",
      " [ 198.  300.    3.   10.    0.]\n",
      " [ 399.  300.    4.    8.    0.]\n",
      " [ 600.  300.    5.    6.    0.]]\n",
      "2.0\n",
      "5.0\n",
      "0.0\n",
      "1.0\n",
      "3.0\n",
      "4.0\n",
      "-1\n"
     ]
    },
    {
     "name": "stderr",
     "output_type": "stream",
     "text": [
      "/Users/Dijkstraaaaa/anaconda3/lib/python3.5/site-packages/ipykernel/__main__.py:126: VisibleDeprecationWarning: using a non-integer number instead of an integer will result in an error in the future\n"
     ]
    }
   ],
   "source": [
    "reward = system_model.frame_step(random_action)\n",
    "print(reward)"
   ]
  },
  {
   "cell_type": "code",
   "execution_count": 13,
   "metadata": {
    "collapsed": false
   },
   "outputs": [
    {
     "name": "stdout",
     "output_type": "stream",
     "text": [
      "1\n"
     ]
    }
   ],
   "source": [
    "import numpy as np\n",
    "print(np.random.randint(4))"
   ]
  },
  {
   "cell_type": "code",
   "execution_count": 14,
   "metadata": {
    "collapsed": true
   },
   "outputs": [],
   "source": [
    "aa = [0,1,2]"
   ]
  },
  {
   "cell_type": "code",
   "execution_count": 16,
   "metadata": {
    "collapsed": false
   },
   "outputs": [
    {
     "name": "stdout",
     "output_type": "stream",
     "text": [
      "[2]\n"
     ]
    }
   ],
   "source": [
    "print(aa[2:])"
   ]
  },
  {
   "cell_type": "code",
   "execution_count": 21,
   "metadata": {
    "collapsed": false
   },
   "outputs": [
    {
     "name": "stdout",
     "output_type": "stream",
     "text": [
      "[[0 0]\n",
      " [1 0]]\n"
     ]
    }
   ],
   "source": [
    "aa = np.zeros(4, dtype = int)\n",
    "aa[2] = 1\n",
    "aa = aa.reshape(2,2)\n",
    "print(aa)"
   ]
  },
  {
   "cell_type": "code",
   "execution_count": null,
   "metadata": {
    "collapsed": true
   },
   "outputs": [],
   "source": []
  }
 ],
 "metadata": {
  "anaconda-cloud": {},
  "kernelspec": {
   "display_name": "Python [conda root]",
   "language": "python",
   "name": "conda-root-py"
  },
  "language_info": {
   "codemirror_mode": {
    "name": "ipython",
    "version": 3
   },
   "file_extension": ".py",
   "mimetype": "text/x-python",
   "name": "python",
   "nbconvert_exporter": "python",
   "pygments_lexer": "ipython3",
   "version": "3.5.2"
  }
 },
 "nbformat": 4,
 "nbformat_minor": 0
}
