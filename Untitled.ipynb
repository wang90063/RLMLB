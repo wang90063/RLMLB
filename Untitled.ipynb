{
 "cells": [
  {
   "cell_type": "code",
   "execution_count": 58,
   "metadata": {
    "collapsed": false
   },
   "outputs": [],
   "source": [
    "import numpy as np\n",
    "\n",
    "WINDOW_WIDTH = 1000  # size of window's width in pixels\n",
    "WINDOW_HEIGHT = 600  # size of windows' height in pixels\n",
    "CELL_SIZE = 200  # size of cell height & width in pixels\n",
    "GAP_SIZE = 1  # size of gap between cells in pixels\n",
    "CELL_COLUMN = 3  # number of columns of cells\n",
    "CELL_ROW = 2  # number of rows of cells\n",
    "NUM_CELL = CELL_COLUMN * CELL_ROW  # num of cells\n",
    "LEFT_MARGIN = int((WINDOW_WIDTH - (CELL_COLUMN * (CELL_SIZE + GAP_SIZE))) / 2)\n",
    "RIGHT_MARGIN = int(WINDOW_WIDTH - LEFT_MARGIN)\n",
    "TOP_MARGIN = int((WINDOW_HEIGHT - (CELL_ROW * (CELL_SIZE + GAP_SIZE))) / 2)\n",
    "BOTTOM_MARGIN = int(WINDOW_HEIGHT - TOP_MARGIN)\n",
    "NUM_USER = 20\n",
    "RESOURCE_LIST = [10, 8, 6, 10, 8, 6, 6, 10, 7, 10, 5, 7, 4, 8, 9, 5, 6, 5, 9]\n"
   ]
  },
  {
   "cell_type": "code",
   "execution_count": 83,
   "metadata": {
    "collapsed": false
   },
   "outputs": [],
   "source": [
    "def init_users():\n",
    "    \"\"\"\n",
    "        initialize user. every user consists of 4 params:\n",
    "        (1) loc_x(center) (2) loc_y(center) (3) which cell user is in (4) user mobility type\n",
    "        user mobility type is divided into 3 categories: low, medium and high. Low mobility users takes 70% of all,\n",
    "        while medium and high takes 20% and 10%.\n",
    "        :return: user: (1) loc_x(center) (2) loc_y(center) (3) which cell user is in (4) user mobility type\n",
    "        \"\"\"\n",
    "    loc_x = np.random.randint(LEFT_MARGIN, RIGHT_MARGIN, size=NUM_USER)\n",
    "    loc_y = np.random.randint(TOP_MARGIN, BOTTOM_MARGIN, size=NUM_USER)\n",
    "    cell_id = which_cell(loc_x=loc_x, loc_y=loc_y)\n",
    "    mobility_type = np.random.choice([1,5,10], size=NUM_USER, p=[0.7, 0.2, 0.1]) # low(70%), medium(20%), high(10%)\n",
    "    users = np.vstack((loc_x, loc_y, cell_id, mobility_type))\n",
    "    return users.T\n",
    "\n",
    "def which_cell(loc_x, loc_y):\n",
    "    \"\"\"\n",
    "    calculate which cell the user is in\n",
    "    :param loc_x:\n",
    "    :param loc_y:\n",
    "    :return: cell_id\n",
    "    \"\"\"\n",
    "    column = np.ceil((loc_x - LEFT_MARGIN) / CELL_SIZE)\n",
    "    row = np.ceil((loc_y - TOP_MARGIN) / CELL_SIZE)\n",
    "    cell_id = (row - 1) * CELL_COLUMN + column\n",
    "    return cell_id\n",
    "\n"
   ]
  },
  {
   "cell_type": "code",
   "execution_count": 84,
   "metadata": {
    "collapsed": false
   },
   "outputs": [
    {
     "name": "stdout",
     "output_type": "stream",
     "text": [
      "[[ 221.  310.    4.    1.]\n",
      " [ 209.  158.    1.    1.]\n",
      " [ 418.  359.    5.    5.]\n",
      " [ 741.  171.    3.   10.]\n",
      " [ 278.  183.    1.   10.]\n",
      " [ 692.  372.    6.    1.]\n",
      " [ 406.  458.    5.    5.]\n",
      " [ 646.  428.    6.    1.]\n",
      " [ 736.  397.    6.   10.]\n",
      " [ 555.  470.    5.    1.]\n",
      " [ 291.  350.    4.    5.]\n",
      " [ 508.  123.    2.    5.]\n",
      " [ 366.  184.    1.    5.]\n",
      " [ 391.  154.    1.    1.]\n",
      " [ 772.  132.    3.    5.]\n",
      " [ 483.  472.    5.    1.]\n",
      " [ 279.  317.    4.    1.]\n",
      " [ 735.  484.    6.    1.]\n",
      " [ 390.  192.    1.    1.]\n",
      " [ 728.  310.    6.    1.]]\n"
     ]
    }
   ],
   "source": [
    "users = init_users()\n",
    "print(users)"
   ]
  },
  {
   "cell_type": "code",
   "execution_count": 77,
   "metadata": {
    "collapsed": false
   },
   "outputs": [
    {
     "name": "stdout",
     "output_type": "stream",
     "text": [
      "[[ 198.   99.    0.   10.    0.]\n",
      " [ 399.   99.    1.    8.    0.]\n",
      " [ 600.   99.    2.    6.    0.]\n",
      " [ 198.  300.    3.   10.    0.]\n",
      " [ 399.  300.    4.    8.    0.]\n",
      " [ 600.  300.    5.    6.    0.]]\n"
     ]
    }
   ],
   "source": [
    "def init_cells():\n",
    "    \"\"\"\n",
    "    initialize cell list, every cell in the lists consists of 5 params:\n",
    "    (1)loc_x(left) (2)loc_y(top) (3)NO. (4)PRB number (5)load\n",
    "    :return: cell_list: (1)loc_x(left) (2)loc_y(top) (3)NO. (4)PRB number (5)load\n",
    "    \"\"\"\n",
    "    # cell location\n",
    "    flatten_x = np.tile(np.arange(CELL_COLUMN), CELL_ROW)\n",
    "    flatten_y = np.repeat(np.arange(CELL_ROW), CELL_COLUMN)\n",
    "    cell_x = flatten_x * (CELL_SIZE + GAP_SIZE) + LEFT_MARGIN\n",
    "    cell_y = flatten_y * (CELL_SIZE + GAP_SIZE) + TOP_MARGIN\n",
    "    \n",
    "    cell_id = np.arange(NUM_CELL)\n",
    "    cell_PRB = np.array(RESOURCE_LIST[:NUM_CELL])\n",
    "    cell_load = np.zeros(NUM_CELL)\n",
    "    \n",
    "    cells = np.vstack((cell_x, cell_y, cell_id, cell_PRB, cell_load))\n",
    "    return cells.T\n",
    "\n",
    "cells = init_cells()\n",
    "print(cells)"
   ]
  },
  {
   "cell_type": "code",
   "execution_count": 94,
   "metadata": {
    "collapsed": false
   },
   "outputs": [
    {
     "name": "stdout",
     "output_type": "stream",
     "text": [
      "[ 221.04868244  208.85051735  413.49107877  734.78522902  271.97806231\n",
      "  691.95070091  401.31111113  646.49136237  733.67822818  555.47384208\n",
      "  289.65268418  508.66448967  362.64061636  391.2780229   775.54075564\n",
      "  483.35575927  278.57170506  734.58575403  389.58245995  728.68225505] [ 309.17948719  157.69111831  357.05266887  176.19160723  188.7842792\n",
      "  371.10699948  462.80356994  427.7885313   398.57343811  470.97526941\n",
      "  352.02985688  126.02753877  180.85013696  154.37973486  127.61593833\n",
      "  472.72717022  317.51803611  484.07853187  192.68661356  310.253449  ]\n"
     ]
    }
   ],
   "source": [
    "def user_mobility(users):\n",
    "    \"\"\"\n",
    "    user mobility func update users' location in every frame. mobility range comes from user mobility type. Meanwhile,\n",
    "    user should only move in the cell range, restricted by the MARGIN.\n",
    "    :param user_list: (1) loc_x(center) (2) loc_y(center) (3) which cell user is in (4) user mobility type\n",
    "    :return: new_user_list: (1) loc_x(center) (2) loc_y(center) (3) which cell user is in (4) user mobility type\n",
    "    \"\"\"\n",
    "    mobility = users[:,3]\n",
    "    move_x = mobility*np.random.uniform(-1,1,size=len(mobility))\n",
    "    move_y = mobility*np.random.uniform(-1,1,size=len(mobility))\n",
    "    user_x = users[:,0] + move_x\n",
    "    user_y = users[:,1] + move_y\n",
    "    user_x = np.clip(user_x, LEFT_MARGIN + 4, RIGHT_MARGIN - 4)\n",
    "    user_y = np.clip(user_y, TOP_MARGIN + 4, BOTTOM_MARGIN - 4)\n",
    "    return user_x, user_y\n",
    "\n",
    "user_x, user_y = user_mobility(users)\n",
    "print(user_x, user_y)"
   ]
  },
  {
   "cell_type": "code",
   "execution_count": null,
   "metadata": {
    "collapsed": true
   },
   "outputs": [],
   "source": [
    "    def update_load(self, cell_list, user_list):\n",
    "        \"\"\"\n",
    "        calculate cell load according to the sum of users in its range.\n",
    "        :param cell_list:\n",
    "        :param user_list:\n",
    "        :return:\n",
    "        \"\"\"\n",
    "        # count users in each cell\n",
    "        cell_load = [0] * CELL_COLUMN * CELL_ROW\n",
    "        for user in user_list:\n",
    "            cell_load[user[2] - 1] += 1\n",
    "        # print(cell_load)\n",
    "\n",
    "        # update the load of each cell in cell list\n",
    "        for i in range(len(cell_list)):\n",
    "            cell_list[i][4] = cell_load[i]\n",
    "        return cell_list"
   ]
  }
 ],
 "metadata": {
  "anaconda-cloud": {},
  "kernelspec": {
   "display_name": "Python [conda root]",
   "language": "python",
   "name": "conda-root-py"
  },
  "language_info": {
   "codemirror_mode": {
    "name": "ipython",
    "version": 3
   },
   "file_extension": ".py",
   "mimetype": "text/x-python",
   "name": "python",
   "nbconvert_exporter": "python",
   "pygments_lexer": "ipython3",
   "version": "3.5.2"
  }
 },
 "nbformat": 4,
 "nbformat_minor": 2
}
