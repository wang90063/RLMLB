{
 "cells": [
  {
   "cell_type": "code",
   "execution_count": 1,
   "metadata": {
    "collapsed": false
   },
   "outputs": [],
   "source": [
    "import numpy as np\n",
    "\n",
    "WINDOW_WIDTH = 1000  # size of window's width in pixels\n",
    "WINDOW_HEIGHT = 600  # size of windows' height in pixels\n",
    "CELL_SIZE = 200  # size of cell height & width in pixels\n",
    "GAP_SIZE = 1  # size of gap between cells in pixels\n",
    "CELL_COLUMN = 3  # number of columns of cells\n",
    "CELL_ROW = 2  # number of rows of cells\n",
    "NUM_CELL = CELL_COLUMN * CELL_ROW  # num of cells\n",
    "LEFT_MARGIN = int((WINDOW_WIDTH - (CELL_COLUMN * (CELL_SIZE + GAP_SIZE))) / 2)\n",
    "RIGHT_MARGIN = int(WINDOW_WIDTH - LEFT_MARGIN)\n",
    "TOP_MARGIN = int((WINDOW_HEIGHT - (CELL_ROW * (CELL_SIZE + GAP_SIZE))) / 2)\n",
    "BOTTOM_MARGIN = int(WINDOW_HEIGHT - TOP_MARGIN)\n",
    "NUM_USER = 20\n",
    "RESOURCE_LIST = [10, 8, 6, 10, 8, 6, 6, 10, 7, 10, 5, 7, 4, 8, 9, 5, 6, 5, 9]\n"
   ]
  },
  {
   "cell_type": "code",
   "execution_count": 2,
   "metadata": {
    "collapsed": false
   },
   "outputs": [],
   "source": [
    "def init_users():\n",
    "    \"\"\"\n",
    "        initialize user. every user consists of 4 params:\n",
    "        (1) loc_x(center) (2) loc_y(center) (3) which cell user is in (4) user mobility type\n",
    "        user mobility type is divided into 3 categories: low, medium and high. Low mobility users takes 70% of all,\n",
    "        while medium and high takes 20% and 10%.\n",
    "        :return: user: (1) loc_x(center) (2) loc_y(center) (3) which cell user is in (4) user mobility type\n",
    "        \"\"\"\n",
    "    loc_x = np.random.randint(LEFT_MARGIN, RIGHT_MARGIN, size=NUM_USER)\n",
    "    loc_y = np.random.randint(TOP_MARGIN, BOTTOM_MARGIN, size=NUM_USER)\n",
    "    cell_id = which_cell(loc_x=loc_x, loc_y=loc_y)\n",
    "    mobility_type = np.random.choice([1,5,10], size=NUM_USER, p=[0.7, 0.2, 0.1]) # low(70%), medium(20%), high(10%)\n",
    "    users = np.vstack((loc_x, loc_y, cell_id, mobility_type))\n",
    "    return users.T\n",
    "\n",
    "def which_cell(loc_x, loc_y):\n",
    "    \"\"\"\n",
    "    calculate which cell the user is in\n",
    "    :param loc_x:\n",
    "    :param loc_y:\n",
    "    :return: cell_id\n",
    "    \"\"\"\n",
    "    column = np.ceil((loc_x - LEFT_MARGIN) / CELL_SIZE)\n",
    "    row = np.ceil((loc_y - TOP_MARGIN) / CELL_SIZE)\n",
    "    cell_id = (row - 1) * CELL_COLUMN + column\n",
    "    return cell_id\n",
    "\n"
   ]
  },
  {
   "cell_type": "code",
   "execution_count": 3,
   "metadata": {
    "collapsed": false
   },
   "outputs": [
    {
     "name": "stdout",
     "output_type": "stream",
     "text": [
      "[[ 390.  312.    4.    5.]\n",
      " [ 519.  306.    5.    1.]\n",
      " [ 598.  401.    5.    1.]\n",
      " [ 390.  284.    1.    1.]\n",
      " [ 225.  320.    4.    1.]\n",
      " [ 740.  293.    3.   10.]\n",
      " [ 315.  147.    1.    5.]\n",
      " [ 726.  416.    6.    1.]\n",
      " [ 600.  358.    6.    1.]\n",
      " [ 615.  182.    3.    1.]\n",
      " [ 204.  332.    4.    1.]\n",
      " [ 560.  142.    2.    1.]\n",
      " [ 744.  487.    6.    5.]\n",
      " [ 714.  344.    6.    1.]\n",
      " [ 500.  113.    2.    1.]\n",
      " [ 726.  268.    3.    1.]\n",
      " [ 658.  157.    3.    1.]\n",
      " [ 361.  358.    4.    1.]\n",
      " [ 253.  411.    4.    1.]\n",
      " [ 312.  365.    4.   10.]]\n"
     ]
    }
   ],
   "source": [
    "users = init_users()\n",
    "print(users)"
   ]
  },
  {
   "cell_type": "code",
   "execution_count": 4,
   "metadata": {
    "collapsed": false
   },
   "outputs": [
    {
     "name": "stdout",
     "output_type": "stream",
     "text": [
      "[[ 198.   99.    0.   10.    0.]\n",
      " [ 399.   99.    1.    8.    0.]\n",
      " [ 600.   99.    2.    6.    0.]\n",
      " [ 198.  300.    3.   10.    0.]\n",
      " [ 399.  300.    4.    8.    0.]\n",
      " [ 600.  300.    5.    6.    0.]]\n"
     ]
    }
   ],
   "source": [
    "def init_cells():\n",
    "    \"\"\"\n",
    "    initialize cell list, every cell in the lists consists of 5 params:\n",
    "    (1)loc_x(left) (2)loc_y(top) (3)NO. (4)PRB number (5)load\n",
    "    :return: cell_list: (1)loc_x(left) (2)loc_y(top) (3)NO. (4)PRB number (5)load\n",
    "    \"\"\"\n",
    "    # cell location\n",
    "    flatten_x = np.tile(np.arange(CELL_COLUMN), CELL_ROW)\n",
    "    flatten_y = np.repeat(np.arange(CELL_ROW), CELL_COLUMN)\n",
    "    cell_x = flatten_x * (CELL_SIZE + GAP_SIZE) + LEFT_MARGIN\n",
    "    cell_y = flatten_y * (CELL_SIZE + GAP_SIZE) + TOP_MARGIN\n",
    "    \n",
    "    cell_id = np.arange(NUM_CELL)\n",
    "    cell_PRB = np.array(RESOURCE_LIST[:NUM_CELL])\n",
    "    cell_load = np.zeros(NUM_CELL)\n",
    "    \n",
    "    cells = np.vstack((cell_x, cell_y, cell_id, cell_PRB, cell_load))\n",
    "    return cells.T\n",
    "\n",
    "cells = init_cells()\n",
    "print(cells)"
   ]
  },
  {
   "cell_type": "code",
   "execution_count": 5,
   "metadata": {
    "collapsed": false
   },
   "outputs": [
    {
     "name": "stdout",
     "output_type": "stream",
     "text": [
      "[ 390.87173904  519.05996583  598.90686012  389.18252161  225.72077319\n",
      "  731.34234469  310.73805959  726.14000886  599.2902361   614.32477738\n",
      "  204.28229247  559.58767345  743.11588597  713.5012663   499.58928802\n",
      "  726.78422026  657.3639034   361.21982668  253.699354    310.8820254 ] [ 315.76199936  306.52796966  401.15413189  284.95276887  320.99813749\n",
      "  291.50963403  145.05271743  416.79396614  357.53985758  182.1022031\n",
      "  332.58758868  141.84233221  486.47540191  344.29773427  113.26598247\n",
      "  268.98276638  156.01814595  358.56716346  411.37196227  360.05901291]\n"
     ]
    }
   ],
   "source": [
    "def user_mobility(users):\n",
    "    \"\"\"\n",
    "    user mobility func update users' location in every frame. mobility range comes from user mobility type. Meanwhile,\n",
    "    user should only move in the cell range, restricted by the MARGIN.\n",
    "    :param user_list: (1) loc_x(center) (2) loc_y(center) (3) which cell user is in (4) user mobility type\n",
    "    :return: new_user_list: (1) loc_x(center) (2) loc_y(center) (3) which cell user is in (4) user mobility type\n",
    "    \"\"\"\n",
    "    mobility = users[:,3]\n",
    "    move_x = mobility*np.random.uniform(-1,1,size=len(mobility))\n",
    "    move_y = mobility*np.random.uniform(-1,1,size=len(mobility))\n",
    "    user_x = users[:,0] + move_x\n",
    "    user_y = users[:,1] + move_y\n",
    "    user_x = np.clip(user_x, LEFT_MARGIN + 4, RIGHT_MARGIN - 4)\n",
    "    user_y = np.clip(user_y, TOP_MARGIN + 4, BOTTOM_MARGIN - 4)\n",
    "    return user_x, user_y\n",
    "\n",
    "user_x, user_y = user_mobility(users)\n",
    "print(user_x, user_y)"
   ]
  },
  {
   "cell_type": "code",
   "execution_count": 6,
   "metadata": {
    "collapsed": false
   },
   "outputs": [
    {
     "name": "stdout",
     "output_type": "stream",
     "text": [
      "[[ 198.   99.    0.   10.    0.]\n",
      " [ 399.   99.    1.    8.    0.]\n",
      " [ 600.   99.    2.    6.    0.]\n",
      " [ 198.  300.    3.   10.    0.]\n",
      " [ 399.  300.    4.    8.    0.]\n",
      " [ 600.  300.    5.    6.    0.]]\n",
      "[ 3.  4.  4.  0.  3.  2.  0.  5.  5.  2.  3.  1.  5.  5.  1.  2.  2.  3.\n",
      "  3.  3.]\n",
      "[(3.0, 6), (2.0, 4), (5.0, 4), (0.0, 2), (1.0, 2), (4.0, 2)]\n",
      "[[ 198.   99.    0.   10.    2.]\n",
      " [ 399.   99.    1.    8.    2.]\n",
      " [ 600.   99.    2.    6.    4.]\n",
      " [ 198.  300.    3.   10.    6.]\n",
      " [ 399.  300.    4.    8.    2.]\n",
      " [ 600.  300.    5.    6.    4.]]\n"
     ]
    },
    {
     "name": "stderr",
     "output_type": "stream",
     "text": [
      "/Users/Dijkstraaaaa/anaconda3/lib/python3.5/site-packages/ipykernel/__main__.py:18: VisibleDeprecationWarning: using a non-integer number instead of an integer will result in an error in the future\n"
     ]
    }
   ],
   "source": [
    "from collections import Counter\n",
    "\n",
    "def update_load(cells, users):\n",
    "    \"\"\"\n",
    "    calculate cell load according to the sum of users in its range.\n",
    "    :param cell_list:\n",
    "    :param user_list:\n",
    "    :return:\n",
    "    \"\"\"\n",
    "    # count users in each cell\n",
    "    user_in = users[:,2]-1\n",
    "    print(user_in)\n",
    "    user_count =  Counter(user_in).most_common()\n",
    "    print(user_count)\n",
    "    \n",
    "    # update the load of each cell in cell list\n",
    "    for item in user_count:\n",
    "        cells[item[0]][4] = item[1]\n",
    "    return cells\n",
    "\n",
    "print(cells)\n",
    "cells = update_load(cells, users)\n",
    "print(cells)"
   ]
  },
  {
   "cell_type": "code",
   "execution_count": 7,
   "metadata": {
    "collapsed": false
   },
   "outputs": [
    {
     "name": "stdout",
     "output_type": "stream",
     "text": [
      "0\n"
     ]
    }
   ],
   "source": [
    "def cal_reward(cells):\n",
    "    reward = 0\n",
    "    resource = cells[:,3]\n",
    "    load = cells[:,4]\n",
    "    normal = resource>load\n",
    "    reward = np.sum(normal.astype(int)-1)\n",
    "    return reward\n",
    "\n",
    "reward = cal_reward(cells)\n",
    "print(reward)"
   ]
  },
  {
   "cell_type": "code",
   "execution_count": null,
   "metadata": {
    "collapsed": true
   },
   "outputs": [],
   "source": []
  },
  {
   "cell_type": "code",
   "execution_count": null,
   "metadata": {
    "collapsed": true
   },
   "outputs": [],
   "source": []
  }
 ],
 "metadata": {
  "anaconda-cloud": {},
  "kernelspec": {
   "display_name": "Python [conda root]",
   "language": "python",
   "name": "conda-root-py"
  },
  "language_info": {
   "codemirror_mode": {
    "name": "ipython",
    "version": 3
   },
   "file_extension": ".py",
   "mimetype": "text/x-python",
   "name": "python",
   "nbconvert_exporter": "python",
   "pygments_lexer": "ipython3",
   "version": "3.5.2"
  }
 },
 "nbformat": 4,
 "nbformat_minor": 2
}
