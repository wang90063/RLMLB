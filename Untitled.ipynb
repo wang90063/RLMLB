{
 "cells": [
  {
   "cell_type": "code",
   "execution_count": 1,
   "metadata": {
    "collapsed": false
   },
   "outputs": [],
   "source": [
    "import numpy as np\n",
    "\n",
    "WINDOW_WIDTH = 1000  # size of window's width in pixels\n",
    "WINDOW_HEIGHT = 600  # size of windows' height in pixels\n",
    "CELL_SIZE = 200  # size of cell height & width in pixels\n",
    "GAP_SIZE = 1  # size of gap between cells in pixels\n",
    "CELL_COLUMN = 3  # number of columns of cells\n",
    "CELL_ROW = 2  # number of rows of cells\n",
    "NUM_CELL = CELL_COLUMN * CELL_ROW  # num of cells\n",
    "LEFT_MARGIN = int((WINDOW_WIDTH - (CELL_COLUMN * (CELL_SIZE + GAP_SIZE))) / 2)\n",
    "RIGHT_MARGIN = int(WINDOW_WIDTH - LEFT_MARGIN)\n",
    "TOP_MARGIN = int((WINDOW_HEIGHT - (CELL_ROW * (CELL_SIZE + GAP_SIZE))) / 2)\n",
    "BOTTOM_MARGIN = int(WINDOW_HEIGHT - TOP_MARGIN)\n",
    "NUM_USER = 20\n",
    "RESOURCE_LIST = [10, 8, 6, 10, 8, 6, 6, 10, 7, 10, 5, 7, 4, 8, 9, 5, 6, 5, 9]\n"
   ]
  },
  {
   "cell_type": "code",
   "execution_count": 2,
   "metadata": {
    "collapsed": false
   },
   "outputs": [],
   "source": [
    "def init_users():\n",
    "    \"\"\"\n",
    "        initialize user. every user consists of 4 params:\n",
    "        (1) loc_x(center) (2) loc_y(center) (3) which cell user is in (4) user mobility type\n",
    "        user mobility type is divided into 3 categories: low, medium and high. Low mobility users takes 70% of all,\n",
    "        while medium and high takes 20% and 10%.\n",
    "        :return: user: (1) loc_x(center) (2) loc_y(center) (3) which cell user is in (4) user mobility type\n",
    "        \"\"\"\n",
    "    loc_x = np.random.randint(LEFT_MARGIN, RIGHT_MARGIN, size=NUM_USER)\n",
    "    loc_y = np.random.randint(TOP_MARGIN, BOTTOM_MARGIN, size=NUM_USER)\n",
    "    cell_id = which_cell(loc_x=loc_x, loc_y=loc_y)\n",
    "    mobility_type = np.random.choice([1,5,10], size=NUM_USER, p=[0.7, 0.2, 0.1]) # low(70%), medium(20%), high(10%)\n",
    "    users = np.vstack((loc_x, loc_y, cell_id, mobility_type))\n",
    "    return users.T\n",
    "\n",
    "def which_cell(loc_x, loc_y):\n",
    "    \"\"\"\n",
    "    calculate which cell the user is in\n",
    "    :param loc_x:\n",
    "    :param loc_y:\n",
    "    :return: cell_id\n",
    "    \"\"\"\n",
    "    column = np.ceil((loc_x - LEFT_MARGIN) / CELL_SIZE)\n",
    "    row = np.ceil((loc_y - TOP_MARGIN) / CELL_SIZE)\n",
    "    cell_id = (row - 1) * CELL_COLUMN + column\n",
    "    return cell_id\n",
    "\n"
   ]
  },
  {
   "cell_type": "code",
   "execution_count": 3,
   "metadata": {
    "collapsed": false
   },
   "outputs": [
    {
     "name": "stdout",
     "output_type": "stream",
     "text": [
      "[[ 789.  302.    6.    1.]\n",
      " [ 545.  204.    2.    5.]\n",
      " [ 768.  255.    3.    5.]\n",
      " [ 576.  453.    5.    1.]\n",
      " [ 426.  310.    5.   10.]\n",
      " [ 319.  452.    4.    1.]\n",
      " [ 575.  459.    5.    5.]\n",
      " [ 764.  188.    3.    5.]\n",
      " [ 696.  110.    3.    1.]\n",
      " [ 694.  134.    3.    1.]\n",
      " [ 681.  269.    3.    1.]\n",
      " [ 325.  272.    1.    1.]\n",
      " [ 435.  200.    2.    1.]\n",
      " [ 542.  278.    2.    1.]\n",
      " [ 240.  390.    4.   10.]\n",
      " [ 656.  351.    6.   10.]\n",
      " [ 312.  496.    4.    1.]\n",
      " [ 324.  293.    1.    1.]\n",
      " [ 606.  204.    3.    5.]\n",
      " [ 497.  420.    5.    1.]]\n"
     ]
    }
   ],
   "source": [
    "users = init_users()\n",
    "print(users)"
   ]
  },
  {
   "cell_type": "code",
   "execution_count": 4,
   "metadata": {
    "collapsed": false
   },
   "outputs": [
    {
     "name": "stdout",
     "output_type": "stream",
     "text": [
      "[[ 198.   99.    0.   10.    0.]\n",
      " [ 399.   99.    1.    8.    0.]\n",
      " [ 600.   99.    2.    6.    0.]\n",
      " [ 198.  300.    3.   10.    0.]\n",
      " [ 399.  300.    4.    8.    0.]\n",
      " [ 600.  300.    5.    6.    0.]]\n"
     ]
    }
   ],
   "source": [
    "def init_cells():\n",
    "    \"\"\"\n",
    "    initialize cell list, every cell in the lists consists of 5 params:\n",
    "    (1)loc_x(left) (2)loc_y(top) (3)NO. (4)PRB number (5)load\n",
    "    :return: cell_list: (1)loc_x(left) (2)loc_y(top) (3)NO. (4)PRB number (5)load\n",
    "    \"\"\"\n",
    "    # cell location\n",
    "    flatten_x = np.tile(np.arange(CELL_COLUMN), CELL_ROW)\n",
    "    flatten_y = np.repeat(np.arange(CELL_ROW), CELL_COLUMN)\n",
    "    cell_x = flatten_x * (CELL_SIZE + GAP_SIZE) + LEFT_MARGIN\n",
    "    cell_y = flatten_y * (CELL_SIZE + GAP_SIZE) + TOP_MARGIN\n",
    "    \n",
    "    cell_id = np.arange(NUM_CELL)\n",
    "    cell_PRB = np.array(RESOURCE_LIST[:NUM_CELL])\n",
    "    cell_load = np.zeros(NUM_CELL)\n",
    "    \n",
    "    cells = np.vstack((cell_x, cell_y, cell_id, cell_PRB, cell_load))\n",
    "    return cells.T\n",
    "\n",
    "cells = init_cells()\n",
    "print(cells)"
   ]
  },
  {
   "cell_type": "code",
   "execution_count": 5,
   "metadata": {
    "collapsed": false
   },
   "outputs": [
    {
     "name": "stdout",
     "output_type": "stream",
     "text": [
      "[ 788.58309583  549.46997645  767.25915471  576.9830368   427.15985031\n",
      "  318.78048617  570.14517268  764.75313217  696.6059475   693.4573307\n",
      "  680.9157268   324.98091503  434.12322987  541.4152389   244.77575394\n",
      "  655.5453865   312.45243953  323.52656075  605.22396626  497.44225613] [ 301.72142419  203.67708488  251.64567389  453.17755815  307.11007167\n",
      "  451.47933925  458.20713279  187.81044941  109.92447136  134.93149838\n",
      "  268.79239347  272.26298944  199.50898822  277.68957078  381.72970649\n",
      "  344.5341659   496.59460944  292.973951    208.2821845   419.44062499]\n"
     ]
    }
   ],
   "source": [
    "def user_mobility(users):\n",
    "    \"\"\"\n",
    "    user mobility func update users' location in every frame. mobility range comes from user mobility type. Meanwhile,\n",
    "    user should only move in the cell range, restricted by the MARGIN.\n",
    "    :param user_list: (1) loc_x(center) (2) loc_y(center) (3) which cell user is in (4) user mobility type\n",
    "    :return: new_user_list: (1) loc_x(center) (2) loc_y(center) (3) which cell user is in (4) user mobility type\n",
    "    \"\"\"\n",
    "    mobility = users[:,3]\n",
    "    move_x = mobility*np.random.uniform(-1,1,size=len(mobility))\n",
    "    move_y = mobility*np.random.uniform(-1,1,size=len(mobility))\n",
    "    user_x = users[:,0] + move_x\n",
    "    user_y = users[:,1] + move_y\n",
    "    user_x = np.clip(user_x, LEFT_MARGIN + 4, RIGHT_MARGIN - 4)\n",
    "    user_y = np.clip(user_y, TOP_MARGIN + 4, BOTTOM_MARGIN - 4)\n",
    "    return user_x, user_y\n",
    "\n",
    "user_x, user_y = user_mobility(users)\n",
    "print(user_x, user_y)"
   ]
  },
  {
   "cell_type": "code",
   "execution_count": 17,
   "metadata": {
    "collapsed": false
   },
   "outputs": [
    {
     "name": "stdout",
     "output_type": "stream",
     "text": [
      "[[ 198.   99.    0.   10.    0.]\n",
      " [ 399.   99.    1.    8.    0.]\n",
      " [ 600.   99.    2.    6.    0.]\n",
      " [ 198.  300.    3.   10.    0.]\n",
      " [ 399.  300.    4.    8.    0.]\n",
      " [ 600.  300.    5.    6.    0.]]\n",
      "[ 5.  1.  2.  4.  4.  3.  4.  2.  2.  2.  2.  0.  1.  1.  3.  5.  3.  0.\n",
      "  2.  4.]\n",
      "[(2.0, 6), (4.0, 4), (1.0, 3), (3.0, 3), (0.0, 2), (5.0, 2)]\n",
      "[[ 198.   99.    0.   10.    2.]\n",
      " [ 399.   99.    1.    8.    3.]\n",
      " [ 600.   99.    2.    6.    6.]\n",
      " [ 198.  300.    3.   10.    3.]\n",
      " [ 399.  300.    4.    8.    4.]\n",
      " [ 600.  300.    5.    6.    2.]]\n"
     ]
    },
    {
     "name": "stderr",
     "output_type": "stream",
     "text": [
      "/home/dijkstraaaaa/.local/lib/python3.5/site-packages/ipykernel/__main__.py:18: VisibleDeprecationWarning: using a non-integer number instead of an integer will result in an error in the future\n"
     ]
    }
   ],
   "source": [
    "from collections import Counter\n",
    "\n",
    "def update_load(cells, users):\n",
    "    \"\"\"\n",
    "    calculate cell load according to the sum of users in its range.\n",
    "    :param cell_list:\n",
    "    :param user_list:\n",
    "    :return:\n",
    "    \"\"\"\n",
    "    # count users in each cell\n",
    "    user_in = users[:,2]-1\n",
    "    print(user_in)\n",
    "    user_count =  Counter(user_in).most_common()\n",
    "    print(user_count)\n",
    "    \n",
    "    # update the load of each cell in cell list\n",
    "    for item in user_count:\n",
    "        cells[item[0]][4] = item[1]\n",
    "    return cells\n",
    "\n",
    "print(cells)\n",
    "cells = update_load(cells, users)\n",
    "print(cells)"
   ]
  },
  {
   "cell_type": "code",
   "execution_count": 23,
   "metadata": {
    "collapsed": false
   },
   "outputs": [
    {
     "name": "stdout",
     "output_type": "stream",
     "text": [
      "-1\n"
     ]
    }
   ],
   "source": [
    "def cal_reward(cells):\n",
    "    reward = 0\n",
    "    resource = cells[:,3]\n",
    "    load = cells[:,4]\n",
    "    normal = resource>load\n",
    "    reward = np.sum(normal.astype(int)-1)\n",
    "    return reward\n",
    "\n",
    "reward = cal_reward(cells)\n",
    "print(reward)"
   ]
  },
  {
   "cell_type": "code",
   "execution_count": null,
   "metadata": {
    "collapsed": true
   },
   "outputs": [],
   "source": []
  }
 ],
 "metadata": {
  "anaconda-cloud": {},
  "kernelspec": {
   "display_name": "Python [conda root]",
   "language": "python",
   "name": "conda-root-py"
  },
  "language_info": {
   "codemirror_mode": {
    "name": "ipython",
    "version": 3
   },
   "file_extension": ".py",
   "mimetype": "text/x-python",
   "name": "python",
   "nbconvert_exporter": "python",
   "pygments_lexer": "ipython3",
   "version": "3.5.2"
  }
 },
 "nbformat": 4,
 "nbformat_minor": 2
}
